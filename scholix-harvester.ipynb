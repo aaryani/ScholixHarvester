{
 "cells": [
  {
   "cell_type": "code",
   "execution_count": null,
   "metadata": {},
   "outputs": [],
   "source": [
    "import requests\n",
    "\n",
    "myfile = open('output.txt', 'w') \n",
    "r = requests.get('https://api-dliservice-prototype-dli.d4science.org/v1/linksFromDatasource?datasource=Australian%20National%20Data%20Service')\n",
    "for i, x in enumerate(r.json()):\n",
    "    print (i, x['linkProvider'][0]['name'], '\\n\\n')\n",
    "    myfile.write(x['linkProvider'][0]['name'])\n",
    "    \n",
    "myfile.close()"
   ]
  },
  {
   "cell_type": "code",
   "execution_count": null,
   "metadata": {},
   "outputs": [],
   "source": [
    "r.json()"
   ]
  },
  {
   "cell_type": "code",
   "execution_count": null,
   "metadata": {},
   "outputs": [],
   "source": [
    "r.status_code"
   ]
  },
  {
   "cell_type": "code",
   "execution_count": null,
   "metadata": {},
   "outputs": [],
   "source": [
    "import requests\n",
    "\n",
    "page=0\n",
    "statusCode=200\n",
    "while (statusCode==200 and page <10):\n",
    "    urlString= 'https://api-dliservice-prototype-dli.d4science.org/v1/linksFromDatasource?datasource=Australian%20National%20Data%20Service&page={}'.format(page)\n",
    "    print (urlString)\n",
    "    r = requests.get(urlString)\n",
    "    print (x['linkProvider'][0]['identifiers'][0]['identifier'])\n",
    "    statusCode= r.status_code\n",
    "    page = page + 1\n"
   ]
  },
  {
   "cell_type": "code",
   "execution_count": null,
   "metadata": {
    "collapsed": true
   },
   "outputs": [],
   "source": []
  }
 ],
 "metadata": {
  "kernelspec": {
   "display_name": "Python 3",
   "language": "python",
   "name": "python3"
  },
  "language_info": {
   "codemirror_mode": {
    "name": "ipython",
    "version": 3
   },
   "file_extension": ".py",
   "mimetype": "text/x-python",
   "name": "python",
   "nbconvert_exporter": "python",
   "pygments_lexer": "ipython3",
   "version": "3.6.3"
  }
 },
 "nbformat": 4,
 "nbformat_minor": 2
}
