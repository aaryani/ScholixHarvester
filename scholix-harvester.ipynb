{
 "cells": [
  {
   "cell_type": "code",
   "execution_count": null,
   "metadata": {
    "collapsed": true
   },
   "outputs": [],
   "source": [
    "import requests\n",
    "\n",
    "myfile = open('output.txt', 'w') \n",
    "r = requests.get('https://api-dliservice-prototype-dli.d4science.org/v1/linksFromDatasource?datasource=Australian%20National%20Data%20Service')\n",
    "for i, x in enumerate(r.json()):\n",
    "    print (i, x['linkProvider'][0]['name'], '\\n\\n')\n",
    "    myfile.write(x['linkProvider'][0]['name'])\n",
    "    \n",
    "myfile.close()"
   ]
  },
  {
   "cell_type": "code",
   "execution_count": null,
   "metadata": {
    "collapsed": true
   },
   "outputs": [],
   "source": [
    "r.json()"
   ]
  },
  {
   "cell_type": "code",
   "execution_count": null,
   "metadata": {
    "collapsed": true
   },
   "outputs": [],
   "source": [
    "r.status_code"
   ]
  },
  {
   "cell_type": "code",
   "execution_count": null,
   "metadata": {
    "collapsed": true
   },
   "outputs": [],
   "source": [
    "import requests\n",
    "\n",
    "page=0\n",
    "statusCode=200\n",
    "while (statusCode==200 and page <10):\n",
    "    urlString= 'https://api-dliservice-prototype-dli.d4science.org/v1/linksFromDatasource?datasource=Australian%20National%20Data%20Service&page={}'.format(page)\n",
    "    print (urlString)\n",
    "    r = requests.get(urlString)\n",
    "    print (x['linkProvider'][0]['identifiers'][0]['identifier'])\n",
    "    statusCode= r.status_code\n",
    "    page = page + 1\n"
   ]
  },
  {
   "cell_type": "code",
   "execution_count": null,
   "metadata": {
    "collapsed": true
   },
   "outputs": [],
   "source": [
    "import requests\n",
    "\n",
    "page=0\n",
    "statusCode=200\n",
    "while (statusCode==200 and page <10):\n",
    "    urlString= 'https://api-dliservice-prototype-dli.d4science.org/v1/linksFromDatasource?datasource=Australian%20National%20Data%20Service&page={}'.format(page)\n",
    "    print (urlString)\n",
    "    r = requests.get(urlString)\n",
    "    fileName='{}.json'.format(1000000+page)\n",
    "    myfile = open(fileName, 'w')\n",
    "    myfile.write(r.text)\n",
    "    statusCode= r.status_code\n",
    "    page = page + 1\n",
    "    myfile.close\n"
   ]
  },
  {
   "cell_type": "code",
   "execution_count": null,
   "metadata": {},
   "outputs": [],
   "source": [
    "import requests, os\n",
    "from requests.utils import requote_uri\n",
    "urlString= 'https://api-dliservice-prototype-dli.d4science.org/v1/listDatasources'\n",
    "r = requests.get(urlString)\n",
    "\n",
    "#Create a URL encoded list of data sources\n",
    "dataSources=[];\n",
    "for ds in r.json():\n",
    "    if len(ds.strip())>0:\n",
    "        dataSources.append(requote_uri(ds))\n",
    "\n",
    "#Create local folder for the data sources\n",
    "for ds in dataSources:\n",
    "    if not os.path.exists(ds):\n",
    "        print ('Creating new folder: ' + ds)\n",
    "        os.makedirs(directory)\n",
    "    else:\n",
    "        print ('Exists: ' + ds)\n",
    "            \n",
    "print ('Job completed.')"
   ]
  },
  {
   "cell_type": "code",
   "execution_count": 9,
   "metadata": {},
   "outputs": [
    {
     "name": "stdout",
     "output_type": "stream",
     "text": [
      "Exists: Datasets%20in%20Datacite\n",
      "Exists: Cambridge%20Crystallographic%20Data%20Centre\n",
      "Exists: PubMed\n",
      "Exists: Pangaea\n",
      "Exists: Australian%20National%20Data%20Service\n",
      "Exists: ICPSR\n",
      "Exists: RCSB\n",
      "Exists: Elsevier\n",
      "Exists: Springer%20Nature\n",
      "Exists: Thomson%20Reuters\n",
      "Exists: OpenAIRE\n",
      "Exists: IEDA\n",
      "Exists: 3TU.Datacentrum\n",
      "Exists: IEEE\n",
      "https://api-dliservice-prototype-dli.d4science.org/v1/linksFromDatasource?datasource=Datasets%20in%20Datacite&page=0\n",
      "https://api-dliservice-prototype-dli.d4science.org/v1/linksFromDatasource?datasource=Datasets%20in%20Datacite&page=1\n",
      "https://api-dliservice-prototype-dli.d4science.org/v1/linksFromDatasource?datasource=Datasets%20in%20Datacite&page=2\n",
      "https://api-dliservice-prototype-dli.d4science.org/v1/linksFromDatasource?datasource=Cambridge%20Crystallographic%20Data%20Centre&page=0\n",
      "https://api-dliservice-prototype-dli.d4science.org/v1/linksFromDatasource?datasource=Cambridge%20Crystallographic%20Data%20Centre&page=1\n",
      "https://api-dliservice-prototype-dli.d4science.org/v1/linksFromDatasource?datasource=Cambridge%20Crystallographic%20Data%20Centre&page=2\n",
      "https://api-dliservice-prototype-dli.d4science.org/v1/linksFromDatasource?datasource=PubMed&page=0\n",
      "https://api-dliservice-prototype-dli.d4science.org/v1/linksFromDatasource?datasource=PubMed&page=1\n",
      "https://api-dliservice-prototype-dli.d4science.org/v1/linksFromDatasource?datasource=PubMed&page=2\n",
      "https://api-dliservice-prototype-dli.d4science.org/v1/linksFromDatasource?datasource=Pangaea&page=0\n",
      "https://api-dliservice-prototype-dli.d4science.org/v1/linksFromDatasource?datasource=Pangaea&page=1\n",
      "https://api-dliservice-prototype-dli.d4science.org/v1/linksFromDatasource?datasource=Pangaea&page=2\n",
      "https://api-dliservice-prototype-dli.d4science.org/v1/linksFromDatasource?datasource=Australian%20National%20Data%20Service&page=0\n",
      "https://api-dliservice-prototype-dli.d4science.org/v1/linksFromDatasource?datasource=Australian%20National%20Data%20Service&page=1\n",
      "https://api-dliservice-prototype-dli.d4science.org/v1/linksFromDatasource?datasource=Australian%20National%20Data%20Service&page=2\n",
      "https://api-dliservice-prototype-dli.d4science.org/v1/linksFromDatasource?datasource=ICPSR&page=0\n",
      "https://api-dliservice-prototype-dli.d4science.org/v1/linksFromDatasource?datasource=ICPSR&page=1\n",
      "https://api-dliservice-prototype-dli.d4science.org/v1/linksFromDatasource?datasource=ICPSR&page=2\n",
      "https://api-dliservice-prototype-dli.d4science.org/v1/linksFromDatasource?datasource=RCSB&page=0\n",
      "https://api-dliservice-prototype-dli.d4science.org/v1/linksFromDatasource?datasource=RCSB&page=1\n",
      "https://api-dliservice-prototype-dli.d4science.org/v1/linksFromDatasource?datasource=RCSB&page=2\n",
      "https://api-dliservice-prototype-dli.d4science.org/v1/linksFromDatasource?datasource=Elsevier&page=0\n",
      "https://api-dliservice-prototype-dli.d4science.org/v1/linksFromDatasource?datasource=Elsevier&page=1\n",
      "https://api-dliservice-prototype-dli.d4science.org/v1/linksFromDatasource?datasource=Elsevier&page=2\n",
      "https://api-dliservice-prototype-dli.d4science.org/v1/linksFromDatasource?datasource=Springer%20Nature&page=0\n",
      "https://api-dliservice-prototype-dli.d4science.org/v1/linksFromDatasource?datasource=Springer%20Nature&page=1\n",
      "https://api-dliservice-prototype-dli.d4science.org/v1/linksFromDatasource?datasource=Springer%20Nature&page=2\n",
      "https://api-dliservice-prototype-dli.d4science.org/v1/linksFromDatasource?datasource=Thomson%20Reuters&page=0\n",
      "https://api-dliservice-prototype-dli.d4science.org/v1/linksFromDatasource?datasource=Thomson%20Reuters&page=1\n",
      "https://api-dliservice-prototype-dli.d4science.org/v1/linksFromDatasource?datasource=Thomson%20Reuters&page=2\n",
      "https://api-dliservice-prototype-dli.d4science.org/v1/linksFromDatasource?datasource=OpenAIRE&page=0\n",
      "https://api-dliservice-prototype-dli.d4science.org/v1/linksFromDatasource?datasource=OpenAIRE&page=1\n",
      "https://api-dliservice-prototype-dli.d4science.org/v1/linksFromDatasource?datasource=OpenAIRE&page=2\n",
      "https://api-dliservice-prototype-dli.d4science.org/v1/linksFromDatasource?datasource=IEDA&page=0\n",
      "https://api-dliservice-prototype-dli.d4science.org/v1/linksFromDatasource?datasource=IEDA&page=1\n",
      "https://api-dliservice-prototype-dli.d4science.org/v1/linksFromDatasource?datasource=IEDA&page=2\n",
      "https://api-dliservice-prototype-dli.d4science.org/v1/linksFromDatasource?datasource=3TU.Datacentrum&page=0\n",
      "https://api-dliservice-prototype-dli.d4science.org/v1/linksFromDatasource?datasource=3TU.Datacentrum&page=1\n",
      "https://api-dliservice-prototype-dli.d4science.org/v1/linksFromDatasource?datasource=3TU.Datacentrum&page=2\n",
      "https://api-dliservice-prototype-dli.d4science.org/v1/linksFromDatasource?datasource=IEEE&page=0\n",
      "https://api-dliservice-prototype-dli.d4science.org/v1/linksFromDatasource?datasource=IEEE&page=1\n",
      "https://api-dliservice-prototype-dli.d4science.org/v1/linksFromDatasource?datasource=IEEE&page=2\n",
      "Job completed.\n"
     ]
    }
   ],
   "source": [
    "import requests, os\n",
    "from requests.utils import requote_uri\n",
    "urlString= 'https://api-dliservice-prototype-dli.d4science.org/v1/listDatasources'\n",
    "r = requests.get(urlString)\n",
    "\n",
    "#Create a URL encoded list of data sources\n",
    "dataSources=[];\n",
    "for ds in r.json():\n",
    "    if len(ds.strip())>0:\n",
    "        dataSources.append(requote_uri(ds))\n",
    "\n",
    "#Create local folder for the data sources\n",
    "for ds in dataSources:\n",
    "    if not os.path.exists(ds):\n",
    "        print ('Creating new folder: ' + ds)\n",
    "        os.makedirs(ds)\n",
    "    else:\n",
    "        print ('Exists: ' + ds)\n",
    "\n",
    "#Download\n",
    "maximumPages=3\n",
    "\n",
    "for ds in dataSources:\n",
    "    page=0\n",
    "    statusCode=200\n",
    "    while (statusCode==200 and page < maximumPages):\n",
    "        urlString= 'https://api-dliservice-prototype-dli.d4science.org/v1/linksFromDatasource?datasource={}&page={}'.format(ds,page)\n",
    "        print (urlString)\n",
    "        r = requests.get(urlString)\n",
    "        fileName='{}.json'.format(1000000+page)\n",
    "        myfile = open('./{}/{}'.format(ds,fileName), 'w')\n",
    "        myfile.write(r.text)\n",
    "        statusCode= r.status_code\n",
    "        page = page + 1\n",
    "        myfile.close\n",
    "        \n",
    "        \n",
    "print ('Job completed.')"
   ]
  }
 ],
 "metadata": {
  "kernelspec": {
   "display_name": "Python 3",
   "language": "python",
   "name": "python3"
  },
  "language_info": {
   "codemirror_mode": {
    "name": "ipython",
    "version": 3
   },
   "file_extension": ".py",
   "mimetype": "text/x-python",
   "name": "python",
   "nbconvert_exporter": "python",
   "pygments_lexer": "ipython3",
   "version": "3.6.3"
  }
 },
 "nbformat": 4,
 "nbformat_minor": 2
}
